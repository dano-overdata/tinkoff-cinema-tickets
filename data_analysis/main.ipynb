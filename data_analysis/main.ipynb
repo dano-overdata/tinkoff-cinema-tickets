{
 "cells": [
  {
   "cell_type": "code",
   "execution_count": 32,
   "id": "7cad2bea",
   "metadata": {
    "pycharm": {
     "name": "#%%\n"
    }
   },
   "outputs": [],
   "source": [
    "import pandas as pd\n",
    "import seaborn as sns\n",
    "import matplotlib.pyplot as plt\n",
    "from tqdm import tqdm\n",
    "import numpy as np\n",
    "from scipy import stats\n",
    "import numpy as np\n",
    "import warnings\n",
    "warnings.simplefilter('ignore')\n",
    "%matplotlib inline"
   ]
  },
  {
   "cell_type": "code",
   "execution_count": 33,
   "id": "47d46c2e",
   "metadata": {
    "pycharm": {
     "name": "#%%\n"
    }
   },
   "outputs": [],
   "source": [
    "df = pd.read_excel('df_cinema_without.xlsx')"
   ]
  },
  {
   "cell_type": "code",
   "execution_count": 34,
   "id": "b2bfb2c5",
   "metadata": {
    "pycharm": {
     "name": "#%%\n"
    }
   },
   "outputs": [],
   "source": [
    "films = pd.read_excel('prem_year.xlsx')"
   ]
  },
  {
   "cell_type": "code",
   "execution_count": null,
   "outputs": [],
   "source": [
    "#Оставим в датасете только фильмы\n",
    "df = df[df['movie_name'].isin(films['movie_name'])]"
   ],
   "metadata": {
    "collapsed": false,
    "pycharm": {
     "name": "#%%\n"
    }
   }
  },
  {
   "cell_type": "code",
   "execution_count": null,
   "outputs": [],
   "source": [
    "df.info()"
   ],
   "metadata": {
    "collapsed": false,
    "pycharm": {
     "name": "#%%\n"
    }
   }
  },
  {
   "cell_type": "markdown",
   "source": [
    "## Анализ по теме исследования"
   ],
   "metadata": {
    "collapsed": false,
    "pycharm": {
     "name": "#%% md\n"
    }
   }
  },
  {
   "cell_type": "code",
   "execution_count": null,
   "outputs": [],
   "source": [
    "#Присоединение колонки дня недели премьеры, дня премьеры, количества билетов на фильм\n",
    "unique = df.sort_values(by=['session_date','movie_name']).drop_duplicates(subset='movie_name')\n",
    "unique = unique.assign(prem_day = lambda x: x['session_date'].dt.day_name())\n",
    "unique = unique.assign(prem_day_of_month = lambda x: x['session_date'].dt.day)\n",
    "unique = unique[['movie_name','prem_day','prem_day_of_month','session_date']]\n",
    "unique = unique.rename(columns={'session_date':'premier_date'})\n",
    "\n",
    "unique  = unique.merge(df.groupby('movie_name').count()['order_id'].reset_index().rename(columns={'order_id':'ticks_count'}), how='inner', on='movie_name')\n",
    "unique.sort_values(by='ticks_count')\n",
    "\n",
    "df = df.merge(unique, on='movie_name',how='inner')"
   ],
   "metadata": {
    "collapsed": false,
    "pycharm": {
     "name": "#%%\n"
    }
   }
  },
  {
   "cell_type": "code",
   "execution_count": null,
   "outputs": [],
   "source": [
    "#распределение фильмов по категориям\n",
    "d2 = {}  # фильм: кассовый сбор\n",
    "s = set()\n",
    "for i, data in df.iterrows():\n",
    "    film = data['movie_name']\n",
    "    d2[film] = d2.get(film, 0) + data['sales_in_cu']\n",
    "a = []\n",
    "for i in d2:\n",
    "    a += [[i, d2[i]]]\n",
    "groups = pd.DataFrame(a, columns =['movie_name', 'sum_profit'])\n",
    "groups['success'] = np.nan * len(groups)\n",
    "quantile_25 = groups.sum_profit.quantile(q=0.25)\n",
    "quantile_75 = groups.sum_profit.quantile(q=0.75)\n",
    "quantile_99 = groups.sum_profit.quantile(q=0.99)\n",
    "for i, data in groups.iterrows():\n",
    "    sum_profit = data['sum_profit']\n",
    "    if sum_profit < quantile_25:\n",
    "        groups.success[i] = 1\n",
    "    if sum_profit >= quantile_25 and sum_profit < quantile_75:\n",
    "        groups.success[i] = 2\n",
    "    if sum_profit >= quantile_75 and sum_profit < quantile_99:\n",
    "        groups.success[i] = 3\n",
    "    if sum_profit >= quantile_99:\n",
    "        groups.success[i] = 4\n",
    "        \n",
    "df = df.merge(groups.drop('sum_profit',axis=1), on='movie_name',how='inner')"
   ],
   "metadata": {
    "collapsed": false,
    "pycharm": {
     "name": "#%%\n"
    }
   }
  },
  {
   "cell_type": "code",
   "execution_count": null,
   "outputs": [],
   "source": [
    "# Кэффициент корреляции между фильмами, вышедшими в четверг и его долей в общих кассовых сборах(слишком сложная интерпретация)\n",
    "\n",
    "# coefs = []\n",
    "# for n in tqdm(range(1170)):\n",
    "#     ts = df.groupby('movie_name').sum()['sales_in_cu'].sort_values(ascending=False)[:n]\n",
    "#     data = df[~df['movie_name'].isin(ts.index)].groupby('prem_day').sum()['sales_in_cu'].sort_values(ascending=False) \n",
    "#     data /= unique[~unique['movie_name'].isin(ts.index)].groupby('prem_day').count()['movie_name']\n",
    "    \n",
    "#     coefs.append(data['Thursday']/(data['Thursday']+data['Wednesday']+data['Monday']+data['Tuesday']+data['Sunday']+data['Friday']+data['Saturday']))\n",
    "    \n",
    "# coef = pd.DataFrame([[i for i in range(1170)],coefs], index=['n','coef']).T\n",
    "# coef = coef.assign(coefdir = lambda x: 1/x['coef'] )\n",
    "# sns.lmplot(data = coef, x = 'n', y ='coef')\n",
    "# np.corrcoef(x=coef['n'], y=coef['coef'])[0][1]"
   ],
   "metadata": {
    "collapsed": false,
    "pycharm": {
     "name": "#%%\n"
    }
   }
  },
  {
   "cell_type": "code",
   "execution_count": null,
   "outputs": [],
   "source": [
    "sns.heatmap(df.corr())"
   ],
   "metadata": {
    "collapsed": false,
    "pycharm": {
     "name": "#%%\n"
    }
   }
  },
  {
   "cell_type": "code",
   "execution_count": null,
   "outputs": [],
   "source": [
    "#кол-во купленных билетов до карантина\n",
    "data = df[df['session_date']<='2020-03-25']\n",
    "plt.plot(data.assign(dayofweek = lambda x: x['session_date'].dt.day_name()).groupby('dayofweek').count()['order_id'])"
   ],
   "metadata": {
    "collapsed": false,
    "pycharm": {
     "name": "#%%\n"
    }
   }
  },
  {
   "cell_type": "code",
   "execution_count": null,
   "outputs": [],
   "source": [
    "#кол-во купленных билетов после ослабления карантина\n",
    "data = df[df['session_date']>'2020-07-31']\n",
    "plt.plot(data.assign(dayofweek = lambda x: x['session_date'].dt.day_name()).groupby('dayofweek').count()['order_id'])"
   ],
   "metadata": {
    "collapsed": false,
    "pycharm": {
     "name": "#%%\n"
    }
   }
  },
  {
   "cell_type": "markdown",
   "source": [
    "## Способы убрать выбросы"
   ],
   "metadata": {
    "collapsed": false,
    "pycharm": {
     "name": "#%% md\n"
    }
   }
  },
  {
   "cell_type": "markdown",
   "source": [
    "#### Был вариант убрать фильмы с маленьким рейтингом, количеству проданных билетов, но остановились на фильмах, выпущенных до 20-го года из-за наибольшей объективности способа(т.к. считаем по премьерам фильмов, до этого не имевших фанатов, рейтинг и т.п.)"
   ],
   "metadata": {
    "collapsed": false,
    "pycharm": {
     "name": "#%% md\n"
    }
   }
  },
  {
   "cell_type": "code",
   "execution_count": null,
   "outputs": [],
   "source": [
    "unique.ticks_count.plot.box(showmeans=True)"
   ],
   "metadata": {
    "collapsed": false,
    "pycharm": {
     "name": "#%%\n"
    }
   }
  },
  {
   "cell_type": "code",
   "execution_count": null,
   "outputs": [],
   "source": [
    "unique.ticks_count.plot.box(showfliers=0)"
   ],
   "metadata": {
    "collapsed": false,
    "pycharm": {
     "name": "#%%\n"
    }
   }
  },
  {
   "cell_type": "code",
   "execution_count": null,
   "outputs": [],
   "source": [
    "outs = df[df['success']<2]\n",
    "outs"
   ],
   "metadata": {
    "collapsed": false,
    "pycharm": {
     "name": "#%%\n"
    }
   }
  },
  {
   "cell_type": "code",
   "execution_count": null,
   "outputs": [],
   "source": [
    "outs.groupby('movie_name').sum()['sales_in_cu'].sort_values(ascending=0)"
   ],
   "metadata": {
    "collapsed": false,
    "pycharm": {
     "name": "#%%\n"
    }
   }
  },
  {
   "cell_type": "code",
   "execution_count": null,
   "outputs": [],
   "source": [
    "outs = df[df['ticks_count']<100]\n",
    "outs"
   ],
   "metadata": {
    "collapsed": false,
    "pycharm": {
     "name": "#%%\n"
    }
   }
  },
  {
   "cell_type": "markdown",
   "source": [
    "### Разделяем на датасет на фильмы премьера которых была в 20м году, и на те, которые вышли ранее 19-го года"
   ],
   "metadata": {
    "collapsed": false,
    "pycharm": {
     "name": "#%% md\n"
    }
   }
  },
  {
   "cell_type": "code",
   "execution_count": null,
   "outputs": [],
   "source": [
    "films_20_year = films[films['year']==2020]\n",
    "films_before_20_year = films[films['year']<2019]"
   ],
   "metadata": {
    "collapsed": false,
    "pycharm": {
     "name": "#%%\n"
    }
   }
  },
  {
   "cell_type": "code",
   "execution_count": null,
   "outputs": [],
   "source": [
    "gip1_df =df[df['movie_name'].isin(films_20_year['movie_name'])]\n",
    "gip1_df = gip1_df[gip1_df['premier_date']+ pd.Timedelta(14,unit='D') >= gip1_df['session_date']]"
   ],
   "metadata": {
    "collapsed": false,
    "pycharm": {
     "name": "#%%\n"
    }
   }
  },
  {
   "cell_type": "code",
   "execution_count": null,
   "outputs": [],
   "source": [
    "gip2_df =df[df['movie_name'].isin(films_before_20_year['movie_name'])]\n",
    "gip2_df = gip2_df[gip2_df['premier_date']+ pd.Timedelta(14,unit='D') >= gip2_df['session_date']]"
   ],
   "metadata": {
    "collapsed": false,
    "pycharm": {
     "name": "#%%\n"
    }
   }
  },
  {
   "cell_type": "code",
   "execution_count": null,
   "outputs": [],
   "source": [
    "#graphs for gif\n",
    "# for n in tqdm(range(0,104,3)):\n",
    "#     ts = df.groupby('movie_name').sum()['sales_in_cu'].sort_values(ascending=False)[:n]\n",
    "#     data = df[~df['movie_name'].isin(ts.index)].groupby(['prem_day','success']).sum()['sales_in_cu'].reset_index()\n",
    "#     fig = sns.barplot(data = data, x='prem_day',y=data['sales_in_cu'],hue='success',palette='viridis_r').get_figure()\n",
    "#     plt.title(str(n))\n",
    "#     plt.savefig(f'{n}.png')\n",
    "#     plt.clf() \n",
    "# None"
   ],
   "metadata": {
    "collapsed": false,
    "pycharm": {
     "name": "#%%\n"
    }
   }
  },
  {
   "cell_type": "markdown",
   "source": [
    "###  Первая гипотеза(Среда и четверг наиболее оптимальные дни для выпуска фильма в прокат)"
   ],
   "metadata": {
    "collapsed": false,
    "pycharm": {
     "name": "#%% md\n"
    }
   }
  },
  {
   "cell_type": "code",
   "execution_count": null,
   "outputs": [],
   "source": [
    "plt.figure(figsize=(15,8))\n",
    "#sns.boxplot(data=df,x='prem_day',y='sales_in_cu',showmeans=1,showfliers=0)\n",
    "sns.boxplot(data=gip1_df.groupby('movie_name').sum()['sales_in_cu'].reset_index().merge(\n",
    "    unique[['prem_day','movie_name']],how='inner',on='movie_name'),\n",
    "            x='prem_day',y='sales_in_cu',showfliers=0,showmeans=1, palette='autumn_r',\n",
    "            order=['Monday','Tuesday','Wednesday','Thursday','Friday','Saturday','Sunday'])"
   ],
   "metadata": {
    "collapsed": false,
    "pycharm": {
     "name": "#%%\n"
    }
   }
  },
  {
   "cell_type": "code",
   "execution_count": null,
   "outputs": [],
   "source": [
    "sns.countplot(data=gip1_df.drop_duplicates(subset='movie_name'), x='prem_day')"
   ],
   "metadata": {
    "collapsed": false,
    "pycharm": {
     "name": "#%%\n"
    }
   }
  },
  {
   "cell_type": "code",
   "execution_count": null,
   "outputs": [],
   "source": [
    "plt.figure(figsize=(10,5))\n",
    "sns.countplot(data=gip1_df.drop_duplicates(subset='movie_name'),x='prem_day',hue='success',\n",
    "              order=['Monday','Tuesday','Wednesday','Thursday','Friday','Saturday','Sunday'])\n",
    "None"
   ],
   "metadata": {
    "collapsed": false,
    "pycharm": {
     "name": "#%%\n"
    }
   }
  },
  {
   "cell_type": "code",
   "execution_count": null,
   "outputs": [],
   "source": [
    "gip1 =gip1_df.groupby('movie_name').sum()['sales_in_cu'].reset_index().merge(unique[['prem_day','movie_name']],how='inner',on='movie_name')\n",
    "groupa = gip1[gip1['prem_day'].isin(['Thursday','Wednesday'])]['sales_in_cu']\n",
    "groupb = gip1[~gip1['prem_day'].isin(['Thursday','Wednesday'])]['sales_in_cu']\n",
    "pvalue_1 = stats.ttest_ind(groupa, groupb,equal_var=0,alternative='greater')[1]\n",
    "print('p-value для первой гипотезы:',pvalue_1)\n",
    "print('Не отклоняем нулевую гипотезу' if pvalue_1 > 0.05 else 'Отклоняем нулевую гипотезу')"
   ],
   "metadata": {
    "collapsed": false,
    "pycharm": {
     "name": "#%%\n"
    }
   }
  },
  {
   "cell_type": "code",
   "execution_count": null,
   "outputs": [],
   "source": [
    "#Среда - оптимальный день(хиквадрат тест)\n",
    "data = gip1_df.drop_duplicates(subset='movie_name')\n",
    "data = data[data['prem_day']!='Thursday']\n",
    "data['prem_day'] = data['prem_day'].map(\n",
    "    {'Friday':0,'Wednesday':1, 'Thursday':0,'Monday':0,'Saturday':0,'Sunday':0,'Tuesday':0})\n",
    "data[['prem_day','success']].to_csv('gip1_1.csv')"
   ],
   "metadata": {
    "collapsed": false,
    "pycharm": {
     "name": "#%%\n"
    }
   }
  },
  {
   "cell_type": "code",
   "execution_count": null,
   "outputs": [],
   "source": [
    "#Четверг - оптимальный день(хиквадрат тест)\n",
    "data = gip1_df.drop_duplicates(subset='movie_name')\n",
    "data['prem_day'] = data['prem_day'].map(\n",
    "    {'Friday':0,'Wednesday':0, 'Thursday':1,'Monday':0,'Saturday':0,'Sunday':0,'Tuesday':0})\n",
    "data[['prem_day','success']].to_csv('gip1_2.csv')"
   ],
   "metadata": {
    "collapsed": false,
    "pycharm": {
     "name": "#%%\n"
    }
   }
  },
  {
   "cell_type": "markdown",
   "source": [
    "### Вторая гипотеза 2 вариант(день недели премьеры фильма вновь выпущенного в прокат также влияет на сборы)"
   ],
   "metadata": {
    "collapsed": false,
    "pycharm": {
     "name": "#%% md\n"
    }
   }
  },
  {
   "cell_type": "code",
   "execution_count": null,
   "outputs": [],
   "source": [
    "plt.figure(figsize=(10,5))\n",
    "sns.countplot(data=gip2_df.drop_duplicates(subset='movie_name'), x='prem_day',\n",
    "              order=['Monday','Tuesday','Wednesday','Thursday','Friday','Saturday','Sunday'])"
   ],
   "metadata": {
    "collapsed": false,
    "pycharm": {
     "name": "#%%\n"
    }
   }
  },
  {
   "cell_type": "code",
   "execution_count": null,
   "outputs": [],
   "source": [
    "## plt.figure(figsize=(10,5))\n",
    "sns.boxplot(data=gip2_df.groupby('movie_name').sum()['sales_in_cu'].reset_index().merge(\n",
    "    unique[['prem_day','movie_name']],how='inner',on='movie_name'),x='prem_day',y='sales_in_cu',showmeans=1,showfliers=0,\n",
    "              order=['Monday','Tuesday','Wednesday','Thursday','Friday','Saturday','Sunday'])"
   ],
   "metadata": {
    "collapsed": false,
    "pycharm": {
     "name": "#%%\n"
    }
   }
  },
  {
   "cell_type": "code",
   "execution_count": null,
   "outputs": [],
   "source": [
    "plt.figure(figsize=(10,5))\n",
    "sns.countplot(data=gip2_df.drop_duplicates(subset='movie_name'),x='prem_day',hue='success',\n",
    "              order=['Monday','Tuesday','Wednesday','Thursday','Friday','Saturday','Sunday'])\n",
    "None"
   ],
   "metadata": {
    "collapsed": false,
    "pycharm": {
     "name": "#%%\n"
    }
   }
  },
  {
   "cell_type": "code",
   "execution_count": null,
   "outputs": [],
   "source": [
    "data = gip2_df.groupby('movie_name').sum()['sales_in_cu'].reset_index().merge(\n",
    "    unique[['prem_day','movie_name']],how='inner',on='movie_name')\n",
    "data = pd.DataFrame({\n",
    "    'Monday': data[data['prem_day']=='Monday']['sales_in_cu'],\n",
    "    'Tuesday': data[data['prem_day']=='Tuesday']['sales_in_cu'],\n",
    "    'Wednesday': data[data['prem_day']=='Wednesday']['sales_in_cu'],\n",
    "    'Thursday': data[data['prem_day']=='Thursday']['sales_in_cu'],\n",
    "    'Friday': data[data['prem_day']=='Friday']['sales_in_cu'],\n",
    "    'Saturday': data[data['prem_day']=='Saturday']['sales_in_cu'],\n",
    "    'Sunday': data[data['prem_day']=='Sunday']['sales_in_cu'],\n",
    "})\n",
    "\n",
    "data['Monday'] = data['Monday'].fillna(data['Monday'].median())\n",
    "data['Tuesday'] = data['Tuesday'].fillna(data['Tuesday'].median())\n",
    "data['Wednesday'] = data['Wednesday'].fillna(data['Wednesday'].median())\n",
    "data['Thursday'] = data['Thursday'].fillna(data['Thursday'].median())\n",
    "data['Friday'] = data['Friday'].fillna(data['Friday'].median())\n",
    "data['Saturday'] = data['Saturday'].fillna(data['Saturday'].median())\n",
    "data['Sunday'] = data['Sunday'].fillna(data['Sunday'].median())\n",
    "\n",
    "print('Нулевая гипотеза:', '='.join(data))\n",
    "print('Альтернативная гипотеза:', f'!({\"=\".join(data)})')\n",
    "# общая средняя\n",
    "grand_mean = data.values.flatten().mean()\n",
    "# отклонение групповых средний от общей средней\n",
    "ssb = sum(data[group].size * (group_mean - grand_mean)**2  for group, group_mean in data.mean().items())\n",
    "# отклонения значений в внутри группы от средней группы\n",
    "ssw = sum(sum((x - group_mean)**2 for x in data[group]) for group, group_mean in data.mean().items())\n",
    "\n",
    "groups = data.shape[1]\n",
    "dfb = groups - 1\n",
    "dfw = data.size - groups\n",
    "# межгрупповой средний квадрат  \n",
    "mssb = ssb/dfb\n",
    "# внутригрупповой средний квадрат\n",
    "mssw = ssw/dfw\n",
    "\n",
    "f_value = mssb/mssw\n",
    "\n",
    "p = stats.f.sf(f_value, dfb, dfw)\n",
    "print('Результат:')\n",
    "if p < 0.05:\n",
    "    print('отклоняем нулевую гипотезу')\n",
    "else:\n",
    "    print('НЕ отклоняем нулевую гипотезу')"
   ],
   "metadata": {
    "collapsed": false,
    "pycharm": {
     "name": "#%%\n"
    }
   }
  },
  {
   "cell_type": "code",
   "execution_count": null,
   "outputs": [],
   "source": [
    "gip2 =gip2_df.groupby('movie_name').sum()['sales_in_cu'].reset_index().merge(unique[['prem_day','movie_name']],how='inner',on='movie_name')\n",
    "groupa = gip2[gip2['prem_day'].isin(['Thursday','Friday'])]['sales_in_cu']\n",
    "groupb = gip2[~gip2['prem_day'].isin(['Thursday','Friday'])]['sales_in_cu']\n",
    "pvalue_1 = stats.ttest_ind(groupa, groupb,equal_var=0,alternative='greater')[1]\n",
    "print('p-value для второй гипотезы:',pvalue_1)\n",
    "print('Не отклоняем нулевую гипотезу' if pvalue_1 > 0.05 else 'Отклоняем нулевую гипотезу')"
   ],
   "metadata": {
    "collapsed": false,
    "pycharm": {
     "name": "#%%\n"
    }
   }
  },
  {
   "cell_type": "code",
   "execution_count": null,
   "outputs": [],
   "source": [
    "#Среда - оптимальный день(хиквадрат тест)\n",
    "data = gip2_df.drop_duplicates(subset='movie_name')\n",
    "data['prem_day'] = data['prem_day'].map(\n",
    "    {'Friday':0,'Wednesday':1, 'Thursday':0,'Monday':0,'Saturday':0,'Sunday':0,'Tuesday':0})\n",
    "data[['prem_day','success']].to_csv('gip2_1.csv')"
   ],
   "metadata": {
    "collapsed": false,
    "pycharm": {
     "name": "#%%\n"
    }
   }
  },
  {
   "cell_type": "code",
   "execution_count": null,
   "outputs": [],
   "source": [
    "#Четверг - оптимальный день(хиквадрат тест)\n",
    "data = gip2_df.drop_duplicates(subset='movie_name')\n",
    "data['prem_day'] = data['prem_day'].map(\n",
    "    {'Friday':0,'Wednesday':0, 'Thursday':1,'Monday':0,'Saturday':0,'Sunday':0,'Tuesday':0})\n",
    "data[['prem_day','success']].to_csv('gip2_2.csv')"
   ],
   "metadata": {
    "collapsed": false,
    "pycharm": {
     "name": "#%%\n"
    }
   }
  },
  {
   "cell_type": "code",
   "execution_count": null,
   "outputs": [],
   "source": [
    "#Суббота - оптимальный день(хиквадрат тест)\n",
    "data = gip2_df.drop_duplicates(subset='movie_name')\n",
    "data['prem_day'] = data['prem_day'].map(\n",
    "    {'Friday':0,'Wednesday':0, 'Thursday':0,'Monday':0,'Saturday':1,'Sunday':0,'Tuesday':0})\n",
    "data[['prem_day','success']].to_csv('gip2_3.csv')"
   ],
   "metadata": {
    "collapsed": false,
    "pycharm": {
     "name": "#%%\n"
    }
   }
  }
 ],
 "metadata": {
  "kernelspec": {
   "display_name": "Python 3 (ipykernel)",
   "language": "python",
   "name": "python3"
  },
  "language_info": {
   "codemirror_mode": {
    "name": "ipython",
    "version": 3
   },
   "file_extension": ".py",
   "mimetype": "text/x-python",
   "name": "python",
   "nbconvert_exporter": "python",
   "pygments_lexer": "ipython3",
   "version": "3.10.6"
  }
 },
 "nbformat": 4,
 "nbformat_minor": 5
}